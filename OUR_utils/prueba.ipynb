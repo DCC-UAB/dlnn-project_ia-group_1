{
 "cells": [
  {
   "cell_type": "code",
   "execution_count": 4,
   "metadata": {},
   "outputs": [],
   "source": [
    "import time,os,json\n",
    "import numpy as np\n",
    "\n",
    "import torch\n",
    "import torch.nn as nn\n",
    "import torch.nn.functional as F\n",
    "\n",
    "import torchvision\n",
    "from torch.utils.data import Dataset"
   ]
  },
  {
   "cell_type": "code",
   "execution_count": 8,
   "metadata": {},
   "outputs": [
    {
     "data": {
      "text/plain": [
       "'c:\\\\Users\\\\34644\\\\Desktop\\\\Git hub\\\\dlnn-project_ia-group_1-1\\\\OUR_utils'"
      ]
     },
     "execution_count": 8,
     "metadata": {},
     "output_type": "execute_result"
    }
   ],
   "source": [
    "os.getcwd()"
   ]
  },
  {
   "cell_type": "code",
   "execution_count": 2,
   "metadata": {},
   "outputs": [
    {
     "ename": "ModuleNotFoundError",
     "evalue": "No module named 'fasttext'",
     "output_type": "error",
     "traceback": [
      "\u001b[1;31m---------------------------------------------------------------------------\u001b[0m",
      "\u001b[1;31mModuleNotFoundError\u001b[0m                       Traceback (most recent call last)",
      "\u001b[1;32m~\\AppData\\Local\\Temp\\ipykernel_3432\\398188893.py\u001b[0m in \u001b[0;36m<module>\u001b[1;34m\u001b[0m\n\u001b[1;32m----> 1\u001b[1;33m \u001b[1;32mimport\u001b[0m \u001b[0mfasttext\u001b[0m\u001b[1;33m\u001b[0m\u001b[1;33m\u001b[0m\u001b[0m\n\u001b[0m\u001b[0;32m      2\u001b[0m \u001b[1;32mimport\u001b[0m \u001b[0mfasttext\u001b[0m\u001b[1;33m.\u001b[0m\u001b[0mutil\u001b[0m\u001b[1;33m\u001b[0m\u001b[1;33m\u001b[0m\u001b[0m\n",
      "\u001b[1;31mModuleNotFoundError\u001b[0m: No module named 'fasttext'"
     ]
    }
   ],
   "source": [
    "\n",
    "\n",
    "class ConTextDataset(Dataset):\n",
    "    def __init__(self,dir_images_labels, dir_images, train = True, transform = None):\n",
    "        self.dir_images        = dir_images\n",
    "        self.dir_images_labels = dir_images_labels\n",
    "        self.transform = transform\n",
    "\n",
    "        if train:\n",
    "            path = os.path.join(dir_images_labels,'train.txt')\n",
    "            path_ocr = os.path.join(dir_images_labels, 'ocr_train.txt')\n",
    "        else:\n",
    "            path = os.path.join(dir_images_labels,'test.txt')\n",
    "            path_ocr = os.path.join(dir_images_labels, 'ocr_test.txt')\n",
    "        \n",
    "        with open(path, 'r') as file, open(path_ocr, 'r') as ocr_File:\n",
    "            self.samples = [tuple(line.split(), line_ocr) for line, line_ocr in zip(file, ocr_File)]\n",
    "\n",
    "    def __len__(self):\n",
    "        return (len(self.samples))\n",
    "\n",
    "    def __getitem__(self, idx):\n",
    "        img_name = os.path.join(self.dir_images, self.samples[idx][0]+'.jpg')\n",
    "        image = Image.open(img_name).convert('RGB')\n",
    "        \n",
    "        if self.transform:\n",
    "            image = self.transform(image)\n",
    "        \n",
    "        if self.samples[idx][2] != '0':\n",
    "            #Implement text embedding\n",
    "            pass\n",
    "        target = torch.tensor(int(self.samples[idx][1]))\n",
    "\n",
    "        return image, target"
   ]
  }
 ],
 "metadata": {
  "kernelspec": {
   "display_name": "base",
   "language": "python",
   "name": "python3"
  },
  "language_info": {
   "codemirror_mode": {
    "name": "ipython",
    "version": 3
   },
   "file_extension": ".py",
   "mimetype": "text/x-python",
   "name": "python",
   "nbconvert_exporter": "python",
   "pygments_lexer": "ipython3",
   "version": "3.9.13"
  },
  "orig_nbformat": 4
 },
 "nbformat": 4,
 "nbformat_minor": 2
}
