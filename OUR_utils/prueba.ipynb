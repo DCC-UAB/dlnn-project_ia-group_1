{
 "cells": [
  {
   "cell_type": "code",
   "execution_count": 1,
   "metadata": {},
   "outputs": [],
   "source": [
    "import time,os,json\n",
    "from PIL import Image\n",
    "import numpy as np\n",
    "\n",
    "import torch\n",
    "import torch.nn as nn\n",
    "import torch.nn.functional as F\n",
    "\n",
    "import torchvision\n",
    "from torch.utils.data import Dataset\n",
    "import easyocr"
   ]
  },
  {
   "cell_type": "code",
   "execution_count": 3,
   "metadata": {},
   "outputs": [],
   "source": [
    "input_size = 256\n",
    "\n",
    "data_transforms_train = torchvision.transforms.Compose([\n",
    "        torchvision.transforms.RandomResizedCrop(input_size),\n",
    "        torchvision.transforms.RandomHorizontalFlip(),\n",
    "        torchvision.transforms.ToTensor(),\n",
    "        torchvision.transforms.Normalize([0.485, 0.456, 0.406], [0.229, 0.224, 0.225])\n",
    "    ])\n",
    "data_transforms_test = torchvision.transforms.Compose([\n",
    "        torchvision.transforms.Resize(input_size),\n",
    "        torchvision.transforms.CenterCrop(input_size),\n",
    "        torchvision.transforms.ToTensor(),\n",
    "        torchvision.transforms.Normalize([0.485, 0.456, 0.406], [0.229, 0.224, 0.225])\n",
    "    ])"
   ]
  },
  {
   "cell_type": "code",
   "execution_count": 3,
   "metadata": {},
   "outputs": [],
   "source": [
    "class ConTextDataset(Dataset):\n",
    "    def __init__(self,dir_images_labels, dir_images, train = True, transform = None):\n",
    "        self.dir_images        = dir_images\n",
    "        self.dir_images_labels = dir_images_labels\n",
    "        self.transform = transform\n",
    "\n",
    "        if train:\n",
    "            path = os.path.join(dir_images_labels,'train.txt')\n",
    "        else:\n",
    "            path = os.path.join(dir_images_labels,'test.txt')\n",
    "        \n",
    "        with open(path, 'r') as file:\n",
    "            self.samples = [tuple(line.split()) for line in file]\n",
    "\n",
    "    def __len__(self):\n",
    "        return (len(self.samples))\n",
    "\n",
    "    def __getitem__(self, idx):\n",
    "\n",
    "\n",
    "        img_name = os.path.join(self.dir_images, self.samples[idx][0]+'.jpg')\n",
    "        image = Image.open(img_name).convert('RGB')\n",
    "        if self.transform:\n",
    "            image = self.transform(image)\n",
    "        \n",
    "        target = torch.tensor(int(self.samples[idx][1]))\n",
    "\n",
    "        return image, target\n",
    "\n",
    "\n",
    "dir_images      = '/home/xnmaster/data/JPEGImages/'\n",
    "dir_imgs_labels = '/home/xnmaster/data/'\n",
    "\n",
    "train_Set = ConTextDataset(dir_imgs_labels, dir_images, train = True,  transform = data_transforms_train)\n",
    "test_Set  = ConTextDataset(dir_imgs_labels, dir_images, train = False, transform = data_transforms_test)"
   ]
  },
  {
   "cell_type": "code",
   "execution_count": 4,
   "metadata": {},
   "outputs": [
    {
     "name": "stderr",
     "output_type": "stream",
     "text": [
      "CUDA not available - defaulting to CPU. Note: This module is much faster with a GPU.\n"
     ]
    }
   ],
   "source": [
    "reader = easyocr.Reader(['en'], gpu=True)"
   ]
  },
  {
   "cell_type": "code",
   "execution_count": 7,
   "metadata": {},
   "outputs": [],
   "source": [
    "def obtain_ocr(train = True):\n",
    "    if train:\n",
    "        variable = 'train'\n",
    "    else:\n",
    "        variable = 'test'\n",
    "\n",
    "    ocr_file_path  = f'/home/xnmaster/data/ocr_{variable}.txt'\n",
    "    train_path     = f'/home/xnmaster/data/{variable}.txt'\n",
    "    dir_images     = '/home/xnmaster/data/JPEGImages/'\n",
    "    with open(ocr_file_path, 'w') as ocr_file, open(train_path, 'r') as train_file:\n",
    "        for line in train_file:\n",
    "            img_name, label = line.split()\n",
    "            file_path = os.path.join(dir_images, img_name + '.jpg')\n",
    "            ocr_output = reader.readtext(file_path, detail = 0, paragraph= True)\n",
    "            if len(ocr_output) == 0:\n",
    "                ocr_output = '0'\n",
    "            else:\n",
    "                ocr_output = ocr_output[0]\n",
    "            ocr_file.write(ocr_output + '\\n')"
   ]
  }
 ],
 "metadata": {
  "kernelspec": {
   "display_name": "base",
   "language": "python",
   "name": "python3"
  },
  "language_info": {
   "codemirror_mode": {
    "name": "ipython",
    "version": 3
   },
   "file_extension": ".py",
   "mimetype": "text/x-python",
   "name": "python",
   "nbconvert_exporter": "python",
   "pygments_lexer": "ipython3",
   "version": "3.9.13"
  },
  "orig_nbformat": 4
 },
 "nbformat": 4,
 "nbformat_minor": 2
}
